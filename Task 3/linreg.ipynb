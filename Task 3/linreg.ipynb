{
 "cells": [
  {
   "cell_type": "code",
   "execution_count": 1,
   "id": "b9b55542-1988-4a23-9489-f2398f796b12",
   "metadata": {},
   "outputs": [],
   "source": [
    "import pandas as pd\n",
    "import matplotlib.pyplot as plt\n",
    "import numpy as np"
   ]
  },
  {
   "cell_type": "code",
   "execution_count": 2,
   "id": "94aa0492-0f10-485a-a87a-8a7bde232849",
   "metadata": {},
   "outputs": [],
   "source": [
    "df = pd.read_csv('linear_regression_dataset.csv')"
   ]
  },
  {
   "cell_type": "code",
   "execution_count": 3,
   "id": "777a29c5-f30d-4f18-9854-28db223cd16f",
   "metadata": {},
   "outputs": [
    {
     "data": {
      "text/html": [
       "<div>\n",
       "<style scoped>\n",
       "    .dataframe tbody tr th:only-of-type {\n",
       "        vertical-align: middle;\n",
       "    }\n",
       "\n",
       "    .dataframe tbody tr th {\n",
       "        vertical-align: top;\n",
       "    }\n",
       "\n",
       "    .dataframe thead th {\n",
       "        text-align: right;\n",
       "    }\n",
       "</style>\n",
       "<table border=\"1\" class=\"dataframe\">\n",
       "  <thead>\n",
       "    <tr style=\"text-align: right;\">\n",
       "      <th></th>\n",
       "      <th>AGE</th>\n",
       "      <th>FEMALE</th>\n",
       "      <th>LOS</th>\n",
       "      <th>RACE</th>\n",
       "      <th>TOTCHG</th>\n",
       "      <th>APRDRG</th>\n",
       "    </tr>\n",
       "  </thead>\n",
       "  <tbody>\n",
       "    <tr>\n",
       "      <th>0</th>\n",
       "      <td>17</td>\n",
       "      <td>1</td>\n",
       "      <td>2</td>\n",
       "      <td>1.0</td>\n",
       "      <td>2660</td>\n",
       "      <td>560</td>\n",
       "    </tr>\n",
       "    <tr>\n",
       "      <th>1</th>\n",
       "      <td>17</td>\n",
       "      <td>0</td>\n",
       "      <td>2</td>\n",
       "      <td>1.0</td>\n",
       "      <td>1689</td>\n",
       "      <td>753</td>\n",
       "    </tr>\n",
       "    <tr>\n",
       "      <th>2</th>\n",
       "      <td>17</td>\n",
       "      <td>1</td>\n",
       "      <td>7</td>\n",
       "      <td>1.0</td>\n",
       "      <td>20060</td>\n",
       "      <td>930</td>\n",
       "    </tr>\n",
       "    <tr>\n",
       "      <th>3</th>\n",
       "      <td>17</td>\n",
       "      <td>1</td>\n",
       "      <td>1</td>\n",
       "      <td>1.0</td>\n",
       "      <td>736</td>\n",
       "      <td>758</td>\n",
       "    </tr>\n",
       "    <tr>\n",
       "      <th>4</th>\n",
       "      <td>17</td>\n",
       "      <td>1</td>\n",
       "      <td>1</td>\n",
       "      <td>1.0</td>\n",
       "      <td>1194</td>\n",
       "      <td>754</td>\n",
       "    </tr>\n",
       "  </tbody>\n",
       "</table>\n",
       "</div>"
      ],
      "text/plain": [
       "   AGE  FEMALE  LOS  RACE  TOTCHG  APRDRG\n",
       "0   17       1    2   1.0    2660     560\n",
       "1   17       0    2   1.0    1689     753\n",
       "2   17       1    7   1.0   20060     930\n",
       "3   17       1    1   1.0     736     758\n",
       "4   17       1    1   1.0    1194     754"
      ]
     },
     "execution_count": 3,
     "metadata": {},
     "output_type": "execute_result"
    }
   ],
   "source": [
    "df.head()"
   ]
  },
  {
   "cell_type": "code",
   "execution_count": 4,
   "id": "b25370eb-4746-4fa3-b746-18c3faae15f6",
   "metadata": {},
   "outputs": [
    {
     "data": {
      "text/plain": [
       "(500, 6)"
      ]
     },
     "execution_count": 4,
     "metadata": {},
     "output_type": "execute_result"
    }
   ],
   "source": [
    "df.shape"
   ]
  },
  {
   "cell_type": "code",
   "execution_count": 5,
   "id": "014160a5-4987-4b9d-aed0-e8d88657106c",
   "metadata": {},
   "outputs": [
    {
     "data": {
      "text/plain": [
       "(499, 6)"
      ]
     },
     "execution_count": 5,
     "metadata": {},
     "output_type": "execute_result"
    }
   ],
   "source": [
    "df = df.dropna(axis=0)\n",
    "df.shape"
   ]
  },
  {
   "cell_type": "code",
   "execution_count": 6,
   "id": "ae2382fc-b132-4efd-bf63-b696529d6bec",
   "metadata": {},
   "outputs": [
    {
     "data": {
      "text/plain": [
       "Index(['AGE', 'FEMALE', 'LOS', 'RACE', 'TOTCHG', 'APRDRG'], dtype='object')"
      ]
     },
     "execution_count": 6,
     "metadata": {},
     "output_type": "execute_result"
    }
   ],
   "source": [
    "df.columns\n"
   ]
  },
  {
   "cell_type": "code",
   "execution_count": 7,
   "id": "a7a607c3-e3b0-47a6-8bf4-d4e45d33906a",
   "metadata": {},
   "outputs": [],
   "source": [
    "from sklearn.preprocessing import LabelEncoder\n",
    "le = LabelEncoder()\n",
    "df['AGE'] = le.fit_transform(df['AGE'])\n",
    "df['FEMALE'] = le.fit_transform(df['FEMALE'])\n",
    "df['LOS'] = le.fit_transform(df['LOS'])\n",
    "df['RACE'] = le.fit_transform(df['RACE'])\n",
    "df['TOTCHG'] = le.fit_transform(df['TOTCHG'])\n",
    "df['APRDRG'] = le.fit_transform(df['APRDRG'])"
   ]
  },
  {
   "cell_type": "code",
   "execution_count": 8,
   "id": "dd38870c-a0d6-407e-b438-08c251cec9c3",
   "metadata": {},
   "outputs": [],
   "source": [
    "x = df.drop(['TOTCHG'],axis=1)\n",
    "y = df['TOTCHG']"
   ]
  },
  {
   "cell_type": "code",
   "execution_count": 9,
   "id": "817fe9e4-6a2a-44d6-83af-f8f2fe94151e",
   "metadata": {},
   "outputs": [
    {
     "data": {
      "text/html": [
       "<div>\n",
       "<style scoped>\n",
       "    .dataframe tbody tr th:only-of-type {\n",
       "        vertical-align: middle;\n",
       "    }\n",
       "\n",
       "    .dataframe tbody tr th {\n",
       "        vertical-align: top;\n",
       "    }\n",
       "\n",
       "    .dataframe thead th {\n",
       "        text-align: right;\n",
       "    }\n",
       "</style>\n",
       "<table border=\"1\" class=\"dataframe\">\n",
       "  <thead>\n",
       "    <tr style=\"text-align: right;\">\n",
       "      <th></th>\n",
       "      <th>AGE</th>\n",
       "      <th>FEMALE</th>\n",
       "      <th>LOS</th>\n",
       "      <th>RACE</th>\n",
       "      <th>APRDRG</th>\n",
       "    </tr>\n",
       "  </thead>\n",
       "  <tbody>\n",
       "    <tr>\n",
       "      <th>0</th>\n",
       "      <td>17</td>\n",
       "      <td>1</td>\n",
       "      <td>2</td>\n",
       "      <td>0</td>\n",
       "      <td>31</td>\n",
       "    </tr>\n",
       "    <tr>\n",
       "      <th>1</th>\n",
       "      <td>17</td>\n",
       "      <td>0</td>\n",
       "      <td>2</td>\n",
       "      <td>0</td>\n",
       "      <td>50</td>\n",
       "    </tr>\n",
       "    <tr>\n",
       "      <th>2</th>\n",
       "      <td>17</td>\n",
       "      <td>1</td>\n",
       "      <td>7</td>\n",
       "      <td>0</td>\n",
       "      <td>61</td>\n",
       "    </tr>\n",
       "    <tr>\n",
       "      <th>3</th>\n",
       "      <td>17</td>\n",
       "      <td>1</td>\n",
       "      <td>1</td>\n",
       "      <td>0</td>\n",
       "      <td>54</td>\n",
       "    </tr>\n",
       "    <tr>\n",
       "      <th>4</th>\n",
       "      <td>17</td>\n",
       "      <td>1</td>\n",
       "      <td>1</td>\n",
       "      <td>0</td>\n",
       "      <td>51</td>\n",
       "    </tr>\n",
       "  </tbody>\n",
       "</table>\n",
       "</div>"
      ],
      "text/plain": [
       "   AGE  FEMALE  LOS  RACE  APRDRG\n",
       "0   17       1    2     0      31\n",
       "1   17       0    2     0      50\n",
       "2   17       1    7     0      61\n",
       "3   17       1    1     0      54\n",
       "4   17       1    1     0      51"
      ]
     },
     "execution_count": 9,
     "metadata": {},
     "output_type": "execute_result"
    }
   ],
   "source": [
    "x.head()"
   ]
  },
  {
   "cell_type": "code",
   "execution_count": 10,
   "id": "757cac7c-a9bd-4a0c-8be9-586658706606",
   "metadata": {},
   "outputs": [],
   "source": [
    "from sklearn.model_selection import train_test_split\n",
    "X_train, X_test, Y_train, Y_test = train_test_split(x,y, test_size = 0.2)"
   ]
  },
  {
   "cell_type": "code",
   "execution_count": 11,
   "id": "d24b25d0-5f57-44a3-bf64-ac517efef5f6",
   "metadata": {},
   "outputs": [],
   "source": [
    "def linear_regression(X,Y,LR,epochs):\n",
    "    m = len(X)\n",
    "    w = np.zeros(X.shape[1])\n",
    "    b = 0\n",
    "    costfunction = []\n",
    "    for i in range(epochs):\n",
    "        y_hat = np.dot(w, X.T) + b\n",
    "        error =round(y_hat - Y,8)\n",
    "        costfn = np.sum(round((error**2)/(2*m),5))\n",
    "        w_gradient =np.dot(X.T, error)/m           \n",
    "        b_gradient = np.sum(error/m) \n",
    "        w = w - LR*w_gradient\n",
    "        b = b - LR*b_gradient\n",
    "        costfunction.append((costfn))\n",
    "\n",
    "        if i%100 == 0:\n",
    "            print(f\"costfunction at {i}:\",round(costfn,5))\n",
    "    \n",
    "    plt.plot(range(epochs),costfunction)\n",
    "    plt.xlabel('Iterations')\n",
    "    plt.ylabel('Cost Function')\n",
    "    plt.show()\n",
    "    \n",
    "    return w,b,costfn\n"
   ]
  },
  {
   "cell_type": "code",
   "execution_count": 12,
   "id": "33afcbbf-8d9a-4feb-bec1-43af541f8a50",
   "metadata": {},
   "outputs": [],
   "source": [
    "def checkaccuracy(w, b, X, Y):\n",
    "    erroravg = 0\n",
    "    m = len(X)\n",
    "    for i, row in X.iterrows():\n",
    "        y_hat = np.dot(w, row) + b\n",
    "        erroravg += np.absolute(round(y_hat - Y[i], 5))\n",
    "    avg_error = erroravg * 100 / m\n",
    "    accuracy = 100 - avg_error\n",
    "    return avg_error"
   ]
  },
  {
   "cell_type": "code",
   "execution_count": 17,
   "id": "add307bc-32b0-4b56-b155-07214f2b25c0",
   "metadata": {},
   "outputs": [
    {
     "name": "stdout",
     "output_type": "stream",
     "text": [
      "costfunction at 0: 29614.70427\n",
      "costfunction at 100: 9.733675355005325e+58\n",
      "costfunction at 200: 5.254303676841775e+113\n",
      "costfunction at 300: 2.8363086009721934e+168\n",
      "costfunction at 400: 1.531058533104114e+223\n",
      "costfunction at 500: 8.264757336304823e+277\n"
     ]
    },
    {
     "data": {
      "image/png": "[encoded data removed]",
      "text/plain": [
       "<Figure size 640x480 with 1 Axes>"
      ]
     },
     "metadata": {},
     "output_type": "display_data"
    },
    {
     "name": "stdout",
     "output_type": "stream",
     "text": [
      "train error : 6.002274111322784e+154 \n",
      "test error : 5.766004653678581e+154 \n"
     ]
    }
   ],
   "source": [
    "w,b,costfn = linear_regression(X_train,Y_train,0.0015,550)\n",
    "train_error = checkaccuracy(w,b,X_train,Y_train)\n",
    "test_error = checkaccuracy(w,b,X_test,Y_test)\n",
    "print(f\"train error : {train_error} \")\n",
    "print(f\"test error : {test_error} \")"
   ]
  },
  {
   "cell_type": "code",
   "execution_count": null,
   "id": "657eed21-d14c-4da8-930b-e5d36668c7a1",
   "metadata": {},
   "outputs": [],
   "source": []
  }
 ],
 "metadata": {
  "kernelspec": {
   "display_name": "Python 3 (ipykernel)",
   "language": "python",
   "name": "python3"
  },
  "language_info": {
   "codemirror_mode": {
    "name": "ipython",
    "version": 3
   },
   "file_extension": ".py",
   "mimetype": "text/x-python",
   "name": "python",
   "nbconvert_exporter": "python",
   "pygments_lexer": "ipython3",
   "version": "3.12.1"
  }
 },
 "nbformat": 4,
 "nbformat_minor": 5
}
